{
 "cells": [
  {
   "cell_type": "code",
   "execution_count": 176,
   "id": "54a93b77-e786-430d-bc83-c788b8fc9c1b",
   "metadata": {},
   "outputs": [],
   "source": [
    "# Python library  to access financial data from Yahoo Finance\n",
    "import pandas as  pd\n",
    "import yfinance as yf\n",
    "import matplotlib.pyplot as plt"
   ]
  },
  {
   "cell_type": "code",
   "execution_count": 177,
   "id": "89bbe3a4-8662-4e61-93f7-01531059ed32",
   "metadata": {},
   "outputs": [],
   "source": [
    "from sklearn.ensemble import RandomForestClassifier\n",
    "from sklearn.metrics import precision_score"
   ]
  },
  {
   "cell_type": "code",
   "execution_count": 178,
   "id": "dc02d6ce-8666-45a6-8285-7d759e6cc4ce",
   "metadata": {},
   "outputs": [
    {
     "data": {
      "text/plain": [
       "yfinance.Ticker object <BTC-USD>"
      ]
     },
     "execution_count": 178,
     "metadata": {},
     "output_type": "execute_result"
    }
   ],
   "source": [
    "#Bitcoin\n",
    "bitcoin_ticker_temp = yf.Ticker(\"BTC-USD\")\n",
    "bitcoin_ticker_temp"
   ]
  },
  {
   "cell_type": "code",
   "execution_count": 179,
   "id": "3d26d4a8-87bf-4871-9ea2-c2a07596538d",
   "metadata": {},
   "outputs": [
    {
     "data": {
      "text/html": [
       "<div>\n",
       "<style scoped>\n",
       "    .dataframe tbody tr th:only-of-type {\n",
       "        vertical-align: middle;\n",
       "    }\n",
       "\n",
       "    .dataframe tbody tr th {\n",
       "        vertical-align: top;\n",
       "    }\n",
       "\n",
       "    .dataframe thead th {\n",
       "        text-align: right;\n",
       "    }\n",
       "</style>\n",
       "<table border=\"1\" class=\"dataframe\">\n",
       "  <thead>\n",
       "    <tr style=\"text-align: right;\">\n",
       "      <th></th>\n",
       "      <th>Open</th>\n",
       "      <th>High</th>\n",
       "      <th>Low</th>\n",
       "      <th>Close</th>\n",
       "      <th>Volume</th>\n",
       "      <th>Dividends</th>\n",
       "      <th>Stock Splits</th>\n",
       "    </tr>\n",
       "    <tr>\n",
       "      <th>Date</th>\n",
       "      <th></th>\n",
       "      <th></th>\n",
       "      <th></th>\n",
       "      <th></th>\n",
       "      <th></th>\n",
       "      <th></th>\n",
       "      <th></th>\n",
       "    </tr>\n",
       "  </thead>\n",
       "  <tbody>\n",
       "    <tr>\n",
       "      <th>2014-09-17 00:00:00+00:00</th>\n",
       "      <td>465.864014</td>\n",
       "      <td>468.174011</td>\n",
       "      <td>452.421997</td>\n",
       "      <td>457.334015</td>\n",
       "      <td>21056800</td>\n",
       "      <td>0.0</td>\n",
       "      <td>0.0</td>\n",
       "    </tr>\n",
       "    <tr>\n",
       "      <th>2014-09-18 00:00:00+00:00</th>\n",
       "      <td>456.859985</td>\n",
       "      <td>456.859985</td>\n",
       "      <td>413.104004</td>\n",
       "      <td>424.440002</td>\n",
       "      <td>34483200</td>\n",
       "      <td>0.0</td>\n",
       "      <td>0.0</td>\n",
       "    </tr>\n",
       "    <tr>\n",
       "      <th>2014-09-19 00:00:00+00:00</th>\n",
       "      <td>424.102997</td>\n",
       "      <td>427.834991</td>\n",
       "      <td>384.532013</td>\n",
       "      <td>394.795990</td>\n",
       "      <td>37919700</td>\n",
       "      <td>0.0</td>\n",
       "      <td>0.0</td>\n",
       "    </tr>\n",
       "    <tr>\n",
       "      <th>2014-09-20 00:00:00+00:00</th>\n",
       "      <td>394.673004</td>\n",
       "      <td>423.295990</td>\n",
       "      <td>389.882996</td>\n",
       "      <td>408.903992</td>\n",
       "      <td>36863600</td>\n",
       "      <td>0.0</td>\n",
       "      <td>0.0</td>\n",
       "    </tr>\n",
       "    <tr>\n",
       "      <th>2014-09-21 00:00:00+00:00</th>\n",
       "      <td>408.084991</td>\n",
       "      <td>412.425995</td>\n",
       "      <td>393.181000</td>\n",
       "      <td>398.821014</td>\n",
       "      <td>26580100</td>\n",
       "      <td>0.0</td>\n",
       "      <td>0.0</td>\n",
       "    </tr>\n",
       "    <tr>\n",
       "      <th>...</th>\n",
       "      <td>...</td>\n",
       "      <td>...</td>\n",
       "      <td>...</td>\n",
       "      <td>...</td>\n",
       "      <td>...</td>\n",
       "      <td>...</td>\n",
       "      <td>...</td>\n",
       "    </tr>\n",
       "    <tr>\n",
       "      <th>2024-01-02 00:00:00+00:00</th>\n",
       "      <td>44187.140625</td>\n",
       "      <td>45899.707031</td>\n",
       "      <td>44176.949219</td>\n",
       "      <td>44957.968750</td>\n",
       "      <td>39335274536</td>\n",
       "      <td>0.0</td>\n",
       "      <td>0.0</td>\n",
       "    </tr>\n",
       "    <tr>\n",
       "      <th>2024-01-03 00:00:00+00:00</th>\n",
       "      <td>44961.601562</td>\n",
       "      <td>45503.242188</td>\n",
       "      <td>40813.535156</td>\n",
       "      <td>42848.175781</td>\n",
       "      <td>46342323118</td>\n",
       "      <td>0.0</td>\n",
       "      <td>0.0</td>\n",
       "    </tr>\n",
       "    <tr>\n",
       "      <th>2024-01-04 00:00:00+00:00</th>\n",
       "      <td>42855.816406</td>\n",
       "      <td>44770.023438</td>\n",
       "      <td>42675.175781</td>\n",
       "      <td>44179.921875</td>\n",
       "      <td>30448091210</td>\n",
       "      <td>0.0</td>\n",
       "      <td>0.0</td>\n",
       "    </tr>\n",
       "    <tr>\n",
       "      <th>2024-01-05 00:00:00+00:00</th>\n",
       "      <td>44192.980469</td>\n",
       "      <td>44353.285156</td>\n",
       "      <td>42784.718750</td>\n",
       "      <td>44162.691406</td>\n",
       "      <td>32336029347</td>\n",
       "      <td>0.0</td>\n",
       "      <td>0.0</td>\n",
       "    </tr>\n",
       "    <tr>\n",
       "      <th>2024-01-06 00:00:00+00:00</th>\n",
       "      <td>44178.953125</td>\n",
       "      <td>44227.632812</td>\n",
       "      <td>43495.597656</td>\n",
       "      <td>43732.027344</td>\n",
       "      <td>22734772224</td>\n",
       "      <td>0.0</td>\n",
       "      <td>0.0</td>\n",
       "    </tr>\n",
       "  </tbody>\n",
       "</table>\n",
       "<p>3399 rows × 7 columns</p>\n",
       "</div>"
      ],
      "text/plain": [
       "                                   Open          High           Low  \\\n",
       "Date                                                                  \n",
       "2014-09-17 00:00:00+00:00    465.864014    468.174011    452.421997   \n",
       "2014-09-18 00:00:00+00:00    456.859985    456.859985    413.104004   \n",
       "2014-09-19 00:00:00+00:00    424.102997    427.834991    384.532013   \n",
       "2014-09-20 00:00:00+00:00    394.673004    423.295990    389.882996   \n",
       "2014-09-21 00:00:00+00:00    408.084991    412.425995    393.181000   \n",
       "...                                 ...           ...           ...   \n",
       "2024-01-02 00:00:00+00:00  44187.140625  45899.707031  44176.949219   \n",
       "2024-01-03 00:00:00+00:00  44961.601562  45503.242188  40813.535156   \n",
       "2024-01-04 00:00:00+00:00  42855.816406  44770.023438  42675.175781   \n",
       "2024-01-05 00:00:00+00:00  44192.980469  44353.285156  42784.718750   \n",
       "2024-01-06 00:00:00+00:00  44178.953125  44227.632812  43495.597656   \n",
       "\n",
       "                                  Close       Volume  Dividends  Stock Splits  \n",
       "Date                                                                           \n",
       "2014-09-17 00:00:00+00:00    457.334015     21056800        0.0           0.0  \n",
       "2014-09-18 00:00:00+00:00    424.440002     34483200        0.0           0.0  \n",
       "2014-09-19 00:00:00+00:00    394.795990     37919700        0.0           0.0  \n",
       "2014-09-20 00:00:00+00:00    408.903992     36863600        0.0           0.0  \n",
       "2014-09-21 00:00:00+00:00    398.821014     26580100        0.0           0.0  \n",
       "...                                 ...          ...        ...           ...  \n",
       "2024-01-02 00:00:00+00:00  44957.968750  39335274536        0.0           0.0  \n",
       "2024-01-03 00:00:00+00:00  42848.175781  46342323118        0.0           0.0  \n",
       "2024-01-04 00:00:00+00:00  44179.921875  30448091210        0.0           0.0  \n",
       "2024-01-05 00:00:00+00:00  44162.691406  32336029347        0.0           0.0  \n",
       "2024-01-06 00:00:00+00:00  43732.027344  22734772224        0.0           0.0  \n",
       "\n",
       "[3399 rows x 7 columns]"
      ]
     },
     "execution_count": 179,
     "metadata": {},
     "output_type": "execute_result"
    }
   ],
   "source": [
    "bitcoin_ticker = bitcoin_ticker_temp.history(period= \"max\")\n",
    "bitcoin_ticker"
   ]
  },
  {
   "cell_type": "code",
   "execution_count": 180,
   "id": "d856918c-d572-4325-85dc-e884ec52a640",
   "metadata": {},
   "outputs": [
    {
     "data": {
      "text/plain": [
       "(pandas.core.frame.DataFrame,\n",
       " (3399, 7),\n",
       " Open            float64\n",
       " High            float64\n",
       " Low             float64\n",
       " Close           float64\n",
       " Volume            int64\n",
       " Dividends       float64\n",
       " Stock Splits    float64\n",
       " dtype: object)"
      ]
     },
     "execution_count": 180,
     "metadata": {},
     "output_type": "execute_result"
    }
   ],
   "source": [
    "type(bitcoin_ticker), bitcoin_ticker.shape, bitcoin_ticker.dtypes"
   ]
  },
  {
   "cell_type": "code",
   "execution_count": 181,
   "id": "ca1e8dd8-57df-4f9e-9ce8-f19bb31ac56d",
   "metadata": {},
   "outputs": [
    {
     "data": {
      "text/plain": [
       "DatetimeIndex(['2014-09-17 00:00:00+00:00', '2014-09-18 00:00:00+00:00',\n",
       "               '2014-09-19 00:00:00+00:00', '2014-09-20 00:00:00+00:00',\n",
       "               '2014-09-21 00:00:00+00:00', '2014-09-22 00:00:00+00:00',\n",
       "               '2014-09-23 00:00:00+00:00', '2014-09-24 00:00:00+00:00',\n",
       "               '2014-09-25 00:00:00+00:00', '2014-09-26 00:00:00+00:00',\n",
       "               ...\n",
       "               '2023-12-28 00:00:00+00:00', '2023-12-29 00:00:00+00:00',\n",
       "               '2023-12-30 00:00:00+00:00', '2023-12-31 00:00:00+00:00',\n",
       "               '2024-01-01 00:00:00+00:00', '2024-01-02 00:00:00+00:00',\n",
       "               '2024-01-03 00:00:00+00:00', '2024-01-04 00:00:00+00:00',\n",
       "               '2024-01-05 00:00:00+00:00', '2024-01-06 00:00:00+00:00'],\n",
       "              dtype='datetime64[ns, UTC]', name='Date', length=3399, freq=None)"
      ]
     },
     "execution_count": 181,
     "metadata": {},
     "output_type": "execute_result"
    }
   ],
   "source": [
    "index=bitcoin_ticker.index\n",
    "index"
   ]
  },
  {
   "cell_type": "code",
   "execution_count": 182,
   "id": "2e4061f8-57f5-4f03-9e76-3496b726843d",
   "metadata": {},
   "outputs": [
    {
     "data": {
      "text/plain": [
       "Index(['Open', 'High', 'Low', 'Close', 'Volume', 'Dividends', 'Stock Splits'], dtype='object')"
      ]
     },
     "execution_count": 182,
     "metadata": {},
     "output_type": "execute_result"
    }
   ],
   "source": [
    "columns=bitcoin_ticker.columns\n",
    "columns"
   ]
  },
  {
   "cell_type": "code",
   "execution_count": 183,
   "id": "4068198a-10dc-437a-bd8d-6b3d83256040",
   "metadata": {},
   "outputs": [
    {
     "data": {
      "text/plain": [
       "Date\n",
       "2014-09-17 00:00:00+00:00      457.334015\n",
       "2014-09-18 00:00:00+00:00      424.440002\n",
       "2014-09-19 00:00:00+00:00      394.795990\n",
       "2014-09-20 00:00:00+00:00      408.903992\n",
       "2014-09-21 00:00:00+00:00      398.821014\n",
       "                                 ...     \n",
       "2024-01-02 00:00:00+00:00    44957.968750\n",
       "2024-01-03 00:00:00+00:00    42848.175781\n",
       "2024-01-04 00:00:00+00:00    44179.921875\n",
       "2024-01-05 00:00:00+00:00    44162.691406\n",
       "2024-01-06 00:00:00+00:00    43732.027344\n",
       "Name: Close, Length: 3399, dtype: float64"
      ]
     },
     "execution_count": 183,
     "metadata": {},
     "output_type": "execute_result"
    }
   ],
   "source": [
    "y=bitcoin_ticker[\"Close\"]\n",
    "y"
   ]
  },
  {
   "cell_type": "code",
   "execution_count": 184,
   "id": "309c538e-9ab8-40f1-887b-a6bfb1ae05b8",
   "metadata": {},
   "outputs": [
    {
     "data": {
      "text/plain": [
       "Text(0.5, 1.0, 'Bitcoin Price')"
      ]
     },
     "execution_count": 184,
     "metadata": {},
     "output_type": "execute_result"
    },
    {
     "data": {
      "image/png": "[encoded data removed]",
      "text/plain": [
       "<Figure size 1000x600 with 1 Axes>"
      ]
     },
     "metadata": {},
     "output_type": "display_data"
    }
   ],
   "source": [
    "bitcoin_ticker.plot(y=[\"Close\"], use_index = True, style='b-', figsize=(10, 6))\n",
    "plt.title(\"Bitcoin Price\")"
   ]
  },
  {
   "cell_type": "markdown",
   "id": "7d9784ed-537f-4025-9592-ab1391c4c66c",
   "metadata": {},
   "source": [
    "# Data Preprocessing"
   ]
  },
  {
   "cell_type": "code",
   "execution_count": 185,
   "id": "9a93b831-7892-4641-b870-dbfbce9b55d6",
   "metadata": {},
   "outputs": [
    {
     "data": {
      "text/html": [
       "<div>\n",
       "<style scoped>\n",
       "    .dataframe tbody tr th:only-of-type {\n",
       "        vertical-align: middle;\n",
       "    }\n",
       "\n",
       "    .dataframe tbody tr th {\n",
       "        vertical-align: top;\n",
       "    }\n",
       "\n",
       "    .dataframe thead th {\n",
       "        text-align: right;\n",
       "    }\n",
       "</style>\n",
       "<table border=\"1\" class=\"dataframe\">\n",
       "  <thead>\n",
       "    <tr style=\"text-align: right;\">\n",
       "      <th></th>\n",
       "      <th>Open</th>\n",
       "      <th>High</th>\n",
       "      <th>Low</th>\n",
       "      <th>Close</th>\n",
       "      <th>Volume</th>\n",
       "      <th>Dividends</th>\n",
       "      <th>Stock Splits</th>\n",
       "    </tr>\n",
       "    <tr>\n",
       "      <th>Date</th>\n",
       "      <th></th>\n",
       "      <th></th>\n",
       "      <th></th>\n",
       "      <th></th>\n",
       "      <th></th>\n",
       "      <th></th>\n",
       "      <th></th>\n",
       "    </tr>\n",
       "  </thead>\n",
       "  <tbody>\n",
       "    <tr>\n",
       "      <th>2014-09-17 00:00:00+00:00</th>\n",
       "      <td>465.864014</td>\n",
       "      <td>468.174011</td>\n",
       "      <td>452.421997</td>\n",
       "      <td>457.334015</td>\n",
       "      <td>21056800</td>\n",
       "      <td>0.0</td>\n",
       "      <td>0.0</td>\n",
       "    </tr>\n",
       "    <tr>\n",
       "      <th>2014-09-18 00:00:00+00:00</th>\n",
       "      <td>456.859985</td>\n",
       "      <td>456.859985</td>\n",
       "      <td>413.104004</td>\n",
       "      <td>424.440002</td>\n",
       "      <td>34483200</td>\n",
       "      <td>0.0</td>\n",
       "      <td>0.0</td>\n",
       "    </tr>\n",
       "    <tr>\n",
       "      <th>2014-09-19 00:00:00+00:00</th>\n",
       "      <td>424.102997</td>\n",
       "      <td>427.834991</td>\n",
       "      <td>384.532013</td>\n",
       "      <td>394.795990</td>\n",
       "      <td>37919700</td>\n",
       "      <td>0.0</td>\n",
       "      <td>0.0</td>\n",
       "    </tr>\n",
       "    <tr>\n",
       "      <th>2014-09-20 00:00:00+00:00</th>\n",
       "      <td>394.673004</td>\n",
       "      <td>423.295990</td>\n",
       "      <td>389.882996</td>\n",
       "      <td>408.903992</td>\n",
       "      <td>36863600</td>\n",
       "      <td>0.0</td>\n",
       "      <td>0.0</td>\n",
       "    </tr>\n",
       "    <tr>\n",
       "      <th>2014-09-21 00:00:00+00:00</th>\n",
       "      <td>408.084991</td>\n",
       "      <td>412.425995</td>\n",
       "      <td>393.181000</td>\n",
       "      <td>398.821014</td>\n",
       "      <td>26580100</td>\n",
       "      <td>0.0</td>\n",
       "      <td>0.0</td>\n",
       "    </tr>\n",
       "  </tbody>\n",
       "</table>\n",
       "</div>"
      ],
      "text/plain": [
       "                                 Open        High         Low       Close  \\\n",
       "Date                                                                        \n",
       "2014-09-17 00:00:00+00:00  465.864014  468.174011  452.421997  457.334015   \n",
       "2014-09-18 00:00:00+00:00  456.859985  456.859985  413.104004  424.440002   \n",
       "2014-09-19 00:00:00+00:00  424.102997  427.834991  384.532013  394.795990   \n",
       "2014-09-20 00:00:00+00:00  394.673004  423.295990  389.882996  408.903992   \n",
       "2014-09-21 00:00:00+00:00  408.084991  412.425995  393.181000  398.821014   \n",
       "\n",
       "                             Volume  Dividends  Stock Splits  \n",
       "Date                                                          \n",
       "2014-09-17 00:00:00+00:00  21056800        0.0           0.0  \n",
       "2014-09-18 00:00:00+00:00  34483200        0.0           0.0  \n",
       "2014-09-19 00:00:00+00:00  37919700        0.0           0.0  \n",
       "2014-09-20 00:00:00+00:00  36863600        0.0           0.0  \n",
       "2014-09-21 00:00:00+00:00  26580100        0.0           0.0  "
      ]
     },
     "execution_count": 185,
     "metadata": {},
     "output_type": "execute_result"
    }
   ],
   "source": [
    "bitcoin_ticker.head()\n"
   ]
  },
  {
   "cell_type": "code",
   "execution_count": 186,
   "id": "1ce54b08-747b-4f5d-bbb9-c868b3f3a74e",
   "metadata": {},
   "outputs": [
    {
     "name": "stdout",
     "output_type": "stream",
     "text": [
      "<class 'pandas.core.frame.DataFrame'>\n",
      "DatetimeIndex: 3399 entries, 2014-09-17 00:00:00+00:00 to 2024-01-06 00:00:00+00:00\n",
      "Data columns (total 7 columns):\n",
      " #   Column        Non-Null Count  Dtype  \n",
      "---  ------        --------------  -----  \n",
      " 0   Open          3399 non-null   float64\n",
      " 1   High          3399 non-null   float64\n",
      " 2   Low           3399 non-null   float64\n",
      " 3   Close         3399 non-null   float64\n",
      " 4   Volume        3399 non-null   int64  \n",
      " 5   Dividends     3399 non-null   float64\n",
      " 6   Stock Splits  3399 non-null   float64\n",
      "dtypes: float64(6), int64(1)\n",
      "memory usage: 212.4 KB\n"
     ]
    }
   ],
   "source": [
    "bitcoin_ticker.info()"
   ]
  },
  {
   "cell_type": "code",
   "execution_count": 187,
   "id": "3608fc86-b3c8-413b-8064-6f9f5c0eecc0",
   "metadata": {},
   "outputs": [
    {
     "data": {
      "text/html": [
       "<div>\n",
       "<style scoped>\n",
       "    .dataframe tbody tr th:only-of-type {\n",
       "        vertical-align: middle;\n",
       "    }\n",
       "\n",
       "    .dataframe tbody tr th {\n",
       "        vertical-align: top;\n",
       "    }\n",
       "\n",
       "    .dataframe thead th {\n",
       "        text-align: right;\n",
       "    }\n",
       "</style>\n",
       "<table border=\"1\" class=\"dataframe\">\n",
       "  <thead>\n",
       "    <tr style=\"text-align: right;\">\n",
       "      <th></th>\n",
       "      <th>Open</th>\n",
       "      <th>High</th>\n",
       "      <th>Low</th>\n",
       "      <th>Close</th>\n",
       "      <th>Volume</th>\n",
       "      <th>Dividends</th>\n",
       "      <th>Stock Splits</th>\n",
       "    </tr>\n",
       "  </thead>\n",
       "  <tbody>\n",
       "    <tr>\n",
       "      <th>count</th>\n",
       "      <td>3399.000000</td>\n",
       "      <td>3399.000000</td>\n",
       "      <td>3399.000000</td>\n",
       "      <td>3399.000000</td>\n",
       "      <td>3.399000e+03</td>\n",
       "      <td>3399.0</td>\n",
       "      <td>3399.0</td>\n",
       "    </tr>\n",
       "    <tr>\n",
       "      <th>mean</th>\n",
       "      <td>14623.628052</td>\n",
       "      <td>14965.554282</td>\n",
       "      <td>14255.630014</td>\n",
       "      <td>14635.017063</td>\n",
       "      <td>1.657556e+10</td>\n",
       "      <td>0.0</td>\n",
       "      <td>0.0</td>\n",
       "    </tr>\n",
       "    <tr>\n",
       "      <th>std</th>\n",
       "      <td>16219.066822</td>\n",
       "      <td>16608.185105</td>\n",
       "      <td>15783.328575</td>\n",
       "      <td>16221.943183</td>\n",
       "      <td>1.908233e+10</td>\n",
       "      <td>0.0</td>\n",
       "      <td>0.0</td>\n",
       "    </tr>\n",
       "    <tr>\n",
       "      <th>min</th>\n",
       "      <td>176.897003</td>\n",
       "      <td>211.731003</td>\n",
       "      <td>171.509995</td>\n",
       "      <td>178.102997</td>\n",
       "      <td>5.914570e+06</td>\n",
       "      <td>0.0</td>\n",
       "      <td>0.0</td>\n",
       "    </tr>\n",
       "    <tr>\n",
       "      <th>25%</th>\n",
       "      <td>915.801514</td>\n",
       "      <td>924.028015</td>\n",
       "      <td>899.312012</td>\n",
       "      <td>919.622986</td>\n",
       "      <td>1.588645e+08</td>\n",
       "      <td>0.0</td>\n",
       "      <td>0.0</td>\n",
       "    </tr>\n",
       "    <tr>\n",
       "      <th>50%</th>\n",
       "      <td>8246.849609</td>\n",
       "      <td>8414.227539</td>\n",
       "      <td>8071.120605</td>\n",
       "      <td>8250.969727</td>\n",
       "      <td>1.156880e+10</td>\n",
       "      <td>0.0</td>\n",
       "      <td>0.0</td>\n",
       "    </tr>\n",
       "    <tr>\n",
       "      <th>75%</th>\n",
       "      <td>23853.489258</td>\n",
       "      <td>24409.812500</td>\n",
       "      <td>23462.214844</td>\n",
       "      <td>23876.561523</td>\n",
       "      <td>2.692564e+10</td>\n",
       "      <td>0.0</td>\n",
       "      <td>0.0</td>\n",
       "    </tr>\n",
       "    <tr>\n",
       "      <th>max</th>\n",
       "      <td>67549.734375</td>\n",
       "      <td>68789.625000</td>\n",
       "      <td>66382.062500</td>\n",
       "      <td>67566.828125</td>\n",
       "      <td>3.509679e+11</td>\n",
       "      <td>0.0</td>\n",
       "      <td>0.0</td>\n",
       "    </tr>\n",
       "  </tbody>\n",
       "</table>\n",
       "</div>"
      ],
      "text/plain": [
       "               Open          High           Low         Close        Volume  \\\n",
       "count   3399.000000   3399.000000   3399.000000   3399.000000  3.399000e+03   \n",
       "mean   14623.628052  14965.554282  14255.630014  14635.017063  1.657556e+10   \n",
       "std    16219.066822  16608.185105  15783.328575  16221.943183  1.908233e+10   \n",
       "min      176.897003    211.731003    171.509995    178.102997  5.914570e+06   \n",
       "25%      915.801514    924.028015    899.312012    919.622986  1.588645e+08   \n",
       "50%     8246.849609   8414.227539   8071.120605   8250.969727  1.156880e+10   \n",
       "75%    23853.489258  24409.812500  23462.214844  23876.561523  2.692564e+10   \n",
       "max    67549.734375  68789.625000  66382.062500  67566.828125  3.509679e+11   \n",
       "\n",
       "       Dividends  Stock Splits  \n",
       "count     3399.0        3399.0  \n",
       "mean         0.0           0.0  \n",
       "std          0.0           0.0  \n",
       "min          0.0           0.0  \n",
       "25%          0.0           0.0  \n",
       "50%          0.0           0.0  \n",
       "75%          0.0           0.0  \n",
       "max          0.0           0.0  "
      ]
     },
     "execution_count": 187,
     "metadata": {},
     "output_type": "execute_result"
    }
   ],
   "source": [
    "bitcoin_ticker.describe()"
   ]
  },
  {
   "cell_type": "code",
   "execution_count": 188,
   "id": "630beb5b-e8ff-45d9-8555-815373a7abe2",
   "metadata": {},
   "outputs": [],
   "source": [
    "bitcoin_ticker=bitcoin_ticker.drop([\"Dividends\"], axis=1)"
   ]
  },
  {
   "cell_type": "code",
   "execution_count": 189,
   "id": "727c66e0-a715-4f53-ad6f-0503e1b86e88",
   "metadata": {},
   "outputs": [],
   "source": [
    "bitcoin_ticker=bitcoin_ticker.drop([\"Stock Splits\"], axis=1)"
   ]
  },
  {
   "cell_type": "code",
   "execution_count": 190,
   "id": "aa863f63-7bff-4ec1-af52-6e4b32653b29",
   "metadata": {},
   "outputs": [
    {
     "data": {
      "text/html": [
       "<div>\n",
       "<style scoped>\n",
       "    .dataframe tbody tr th:only-of-type {\n",
       "        vertical-align: middle;\n",
       "    }\n",
       "\n",
       "    .dataframe tbody tr th {\n",
       "        vertical-align: top;\n",
       "    }\n",
       "\n",
       "    .dataframe thead th {\n",
       "        text-align: right;\n",
       "    }\n",
       "</style>\n",
       "<table border=\"1\" class=\"dataframe\">\n",
       "  <thead>\n",
       "    <tr style=\"text-align: right;\">\n",
       "      <th></th>\n",
       "      <th>Open</th>\n",
       "      <th>High</th>\n",
       "      <th>Low</th>\n",
       "      <th>Close</th>\n",
       "      <th>Volume</th>\n",
       "    </tr>\n",
       "    <tr>\n",
       "      <th>Date</th>\n",
       "      <th></th>\n",
       "      <th></th>\n",
       "      <th></th>\n",
       "      <th></th>\n",
       "      <th></th>\n",
       "    </tr>\n",
       "  </thead>\n",
       "  <tbody>\n",
       "    <tr>\n",
       "      <th>2014-09-17 00:00:00+00:00</th>\n",
       "      <td>465.864014</td>\n",
       "      <td>468.174011</td>\n",
       "      <td>452.421997</td>\n",
       "      <td>457.334015</td>\n",
       "      <td>21056800</td>\n",
       "    </tr>\n",
       "    <tr>\n",
       "      <th>2014-09-18 00:00:00+00:00</th>\n",
       "      <td>456.859985</td>\n",
       "      <td>456.859985</td>\n",
       "      <td>413.104004</td>\n",
       "      <td>424.440002</td>\n",
       "      <td>34483200</td>\n",
       "    </tr>\n",
       "    <tr>\n",
       "      <th>2014-09-19 00:00:00+00:00</th>\n",
       "      <td>424.102997</td>\n",
       "      <td>427.834991</td>\n",
       "      <td>384.532013</td>\n",
       "      <td>394.795990</td>\n",
       "      <td>37919700</td>\n",
       "    </tr>\n",
       "    <tr>\n",
       "      <th>2014-09-20 00:00:00+00:00</th>\n",
       "      <td>394.673004</td>\n",
       "      <td>423.295990</td>\n",
       "      <td>389.882996</td>\n",
       "      <td>408.903992</td>\n",
       "      <td>36863600</td>\n",
       "    </tr>\n",
       "    <tr>\n",
       "      <th>2014-09-21 00:00:00+00:00</th>\n",
       "      <td>408.084991</td>\n",
       "      <td>412.425995</td>\n",
       "      <td>393.181000</td>\n",
       "      <td>398.821014</td>\n",
       "      <td>26580100</td>\n",
       "    </tr>\n",
       "    <tr>\n",
       "      <th>...</th>\n",
       "      <td>...</td>\n",
       "      <td>...</td>\n",
       "      <td>...</td>\n",
       "      <td>...</td>\n",
       "      <td>...</td>\n",
       "    </tr>\n",
       "    <tr>\n",
       "      <th>2024-01-02 00:00:00+00:00</th>\n",
       "      <td>44187.140625</td>\n",
       "      <td>45899.707031</td>\n",
       "      <td>44176.949219</td>\n",
       "      <td>44957.968750</td>\n",
       "      <td>39335274536</td>\n",
       "    </tr>\n",
       "    <tr>\n",
       "      <th>2024-01-03 00:00:00+00:00</th>\n",
       "      <td>44961.601562</td>\n",
       "      <td>45503.242188</td>\n",
       "      <td>40813.535156</td>\n",
       "      <td>42848.175781</td>\n",
       "      <td>46342323118</td>\n",
       "    </tr>\n",
       "    <tr>\n",
       "      <th>2024-01-04 00:00:00+00:00</th>\n",
       "      <td>42855.816406</td>\n",
       "      <td>44770.023438</td>\n",
       "      <td>42675.175781</td>\n",
       "      <td>44179.921875</td>\n",
       "      <td>30448091210</td>\n",
       "    </tr>\n",
       "    <tr>\n",
       "      <th>2024-01-05 00:00:00+00:00</th>\n",
       "      <td>44192.980469</td>\n",
       "      <td>44353.285156</td>\n",
       "      <td>42784.718750</td>\n",
       "      <td>44162.691406</td>\n",
       "      <td>32336029347</td>\n",
       "    </tr>\n",
       "    <tr>\n",
       "      <th>2024-01-06 00:00:00+00:00</th>\n",
       "      <td>44178.953125</td>\n",
       "      <td>44227.632812</td>\n",
       "      <td>43495.597656</td>\n",
       "      <td>43732.027344</td>\n",
       "      <td>22734772224</td>\n",
       "    </tr>\n",
       "  </tbody>\n",
       "</table>\n",
       "<p>3399 rows × 5 columns</p>\n",
       "</div>"
      ],
      "text/plain": [
       "                                   Open          High           Low  \\\n",
       "Date                                                                  \n",
       "2014-09-17 00:00:00+00:00    465.864014    468.174011    452.421997   \n",
       "2014-09-18 00:00:00+00:00    456.859985    456.859985    413.104004   \n",
       "2014-09-19 00:00:00+00:00    424.102997    427.834991    384.532013   \n",
       "2014-09-20 00:00:00+00:00    394.673004    423.295990    389.882996   \n",
       "2014-09-21 00:00:00+00:00    408.084991    412.425995    393.181000   \n",
       "...                                 ...           ...           ...   \n",
       "2024-01-02 00:00:00+00:00  44187.140625  45899.707031  44176.949219   \n",
       "2024-01-03 00:00:00+00:00  44961.601562  45503.242188  40813.535156   \n",
       "2024-01-04 00:00:00+00:00  42855.816406  44770.023438  42675.175781   \n",
       "2024-01-05 00:00:00+00:00  44192.980469  44353.285156  42784.718750   \n",
       "2024-01-06 00:00:00+00:00  44178.953125  44227.632812  43495.597656   \n",
       "\n",
       "                                  Close       Volume  \n",
       "Date                                                  \n",
       "2014-09-17 00:00:00+00:00    457.334015     21056800  \n",
       "2014-09-18 00:00:00+00:00    424.440002     34483200  \n",
       "2014-09-19 00:00:00+00:00    394.795990     37919700  \n",
       "2014-09-20 00:00:00+00:00    408.903992     36863600  \n",
       "2014-09-21 00:00:00+00:00    398.821014     26580100  \n",
       "...                                 ...          ...  \n",
       "2024-01-02 00:00:00+00:00  44957.968750  39335274536  \n",
       "2024-01-03 00:00:00+00:00  42848.175781  46342323118  \n",
       "2024-01-04 00:00:00+00:00  44179.921875  30448091210  \n",
       "2024-01-05 00:00:00+00:00  44162.691406  32336029347  \n",
       "2024-01-06 00:00:00+00:00  43732.027344  22734772224  \n",
       "\n",
       "[3399 rows x 5 columns]"
      ]
     },
     "execution_count": 190,
     "metadata": {},
     "output_type": "execute_result"
    }
   ],
   "source": [
    "bitcoin_ticker"
   ]
  },
  {
   "cell_type": "markdown",
   "id": "8b7ac509-eb6f-4e76-9024-bbf85f727476",
   "metadata": {},
   "source": [
    "## Setting up our target variable for machine learning: \n"
   ]
  },
  {
   "cell_type": "markdown",
   "id": "e371fb9b-0964-4ebb-972f-c1ee4bf88eeb",
   "metadata": {},
   "source": [
    "### Create a new column 'Tomorrow' representing the closing prices of the next trading day by shifting the 'Close' prices upward."
   ]
  },
  {
   "cell_type": "code",
   "execution_count": 191,
   "id": "f82eb872-695a-4de3-9c70-dcc5681fccc3",
   "metadata": {},
   "outputs": [],
   "source": [
    "bitcoin_ticker['Tomorrow'] = bitcoin_ticker['Close'].shift(-1)"
   ]
  },
  {
   "cell_type": "code",
   "execution_count": 192,
   "id": "c6cd28dd-a61f-44b6-aba6-e77e6a44917d",
   "metadata": {},
   "outputs": [
    {
     "data": {
      "text/html": [
       "<div>\n",
       "<style scoped>\n",
       "    .dataframe tbody tr th:only-of-type {\n",
       "        vertical-align: middle;\n",
       "    }\n",
       "\n",
       "    .dataframe tbody tr th {\n",
       "        vertical-align: top;\n",
       "    }\n",
       "\n",
       "    .dataframe thead th {\n",
       "        text-align: right;\n",
       "    }\n",
       "</style>\n",
       "<table border=\"1\" class=\"dataframe\">\n",
       "  <thead>\n",
       "    <tr style=\"text-align: right;\">\n",
       "      <th></th>\n",
       "      <th>Open</th>\n",
       "      <th>High</th>\n",
       "      <th>Low</th>\n",
       "      <th>Close</th>\n",
       "      <th>Volume</th>\n",
       "      <th>Tomorrow</th>\n",
       "    </tr>\n",
       "    <tr>\n",
       "      <th>Date</th>\n",
       "      <th></th>\n",
       "      <th></th>\n",
       "      <th></th>\n",
       "      <th></th>\n",
       "      <th></th>\n",
       "      <th></th>\n",
       "    </tr>\n",
       "  </thead>\n",
       "  <tbody>\n",
       "    <tr>\n",
       "      <th>2014-09-17 00:00:00+00:00</th>\n",
       "      <td>465.864014</td>\n",
       "      <td>468.174011</td>\n",
       "      <td>452.421997</td>\n",
       "      <td>457.334015</td>\n",
       "      <td>21056800</td>\n",
       "      <td>424.440002</td>\n",
       "    </tr>\n",
       "  </tbody>\n",
       "</table>\n",
       "</div>"
      ],
      "text/plain": [
       "                                 Open        High         Low       Close  \\\n",
       "Date                                                                        \n",
       "2014-09-17 00:00:00+00:00  465.864014  468.174011  452.421997  457.334015   \n",
       "\n",
       "                             Volume    Tomorrow  \n",
       "Date                                             \n",
       "2014-09-17 00:00:00+00:00  21056800  424.440002  "
      ]
     },
     "execution_count": 192,
     "metadata": {},
     "output_type": "execute_result"
    }
   ],
   "source": [
    "bitcoin_ticker.head(1)"
   ]
  },
  {
   "cell_type": "code",
   "execution_count": 193,
   "id": "8a352f5e-6fc6-4bd5-b62d-ca39f80ce082",
   "metadata": {},
   "outputs": [
    {
     "data": {
      "text/html": [
       "<div>\n",
       "<style scoped>\n",
       "    .dataframe tbody tr th:only-of-type {\n",
       "        vertical-align: middle;\n",
       "    }\n",
       "\n",
       "    .dataframe tbody tr th {\n",
       "        vertical-align: top;\n",
       "    }\n",
       "\n",
       "    .dataframe thead th {\n",
       "        text-align: right;\n",
       "    }\n",
       "</style>\n",
       "<table border=\"1\" class=\"dataframe\">\n",
       "  <thead>\n",
       "    <tr style=\"text-align: right;\">\n",
       "      <th></th>\n",
       "      <th>Open</th>\n",
       "      <th>High</th>\n",
       "      <th>Low</th>\n",
       "      <th>Close</th>\n",
       "      <th>Volume</th>\n",
       "      <th>Tomorrow</th>\n",
       "      <th>Target</th>\n",
       "    </tr>\n",
       "    <tr>\n",
       "      <th>Date</th>\n",
       "      <th></th>\n",
       "      <th></th>\n",
       "      <th></th>\n",
       "      <th></th>\n",
       "      <th></th>\n",
       "      <th></th>\n",
       "      <th></th>\n",
       "    </tr>\n",
       "  </thead>\n",
       "  <tbody>\n",
       "    <tr>\n",
       "      <th>2014-09-17 00:00:00+00:00</th>\n",
       "      <td>465.864014</td>\n",
       "      <td>468.174011</td>\n",
       "      <td>452.421997</td>\n",
       "      <td>457.334015</td>\n",
       "      <td>21056800</td>\n",
       "      <td>424.440002</td>\n",
       "      <td>False</td>\n",
       "    </tr>\n",
       "    <tr>\n",
       "      <th>2014-09-18 00:00:00+00:00</th>\n",
       "      <td>456.859985</td>\n",
       "      <td>456.859985</td>\n",
       "      <td>413.104004</td>\n",
       "      <td>424.440002</td>\n",
       "      <td>34483200</td>\n",
       "      <td>394.795990</td>\n",
       "      <td>False</td>\n",
       "    </tr>\n",
       "  </tbody>\n",
       "</table>\n",
       "</div>"
      ],
      "text/plain": [
       "                                 Open        High         Low       Close  \\\n",
       "Date                                                                        \n",
       "2014-09-17 00:00:00+00:00  465.864014  468.174011  452.421997  457.334015   \n",
       "2014-09-18 00:00:00+00:00  456.859985  456.859985  413.104004  424.440002   \n",
       "\n",
       "                             Volume    Tomorrow  Target  \n",
       "Date                                                     \n",
       "2014-09-17 00:00:00+00:00  21056800  424.440002   False  \n",
       "2014-09-18 00:00:00+00:00  34483200  394.795990   False  "
      ]
     },
     "execution_count": 193,
     "metadata": {},
     "output_type": "execute_result"
    }
   ],
   "source": [
    "bitcoin_ticker['Target'] = bitcoin_ticker['Tomorrow']>bitcoin_ticker['Close']\n",
    "bitcoin_ticker.head(2)"
   ]
  },
  {
   "cell_type": "code",
   "execution_count": 194,
   "id": "6840394d-80e4-48a0-a88d-5f7f631b38e0",
   "metadata": {},
   "outputs": [
    {
     "data": {
      "text/html": [
       "<div>\n",
       "<style scoped>\n",
       "    .dataframe tbody tr th:only-of-type {\n",
       "        vertical-align: middle;\n",
       "    }\n",
       "\n",
       "    .dataframe tbody tr th {\n",
       "        vertical-align: top;\n",
       "    }\n",
       "\n",
       "    .dataframe thead th {\n",
       "        text-align: right;\n",
       "    }\n",
       "</style>\n",
       "<table border=\"1\" class=\"dataframe\">\n",
       "  <thead>\n",
       "    <tr style=\"text-align: right;\">\n",
       "      <th></th>\n",
       "      <th>Open</th>\n",
       "      <th>High</th>\n",
       "      <th>Low</th>\n",
       "      <th>Close</th>\n",
       "      <th>Volume</th>\n",
       "      <th>Tomorrow</th>\n",
       "      <th>Target</th>\n",
       "    </tr>\n",
       "    <tr>\n",
       "      <th>Date</th>\n",
       "      <th></th>\n",
       "      <th></th>\n",
       "      <th></th>\n",
       "      <th></th>\n",
       "      <th></th>\n",
       "      <th></th>\n",
       "      <th></th>\n",
       "    </tr>\n",
       "  </thead>\n",
       "  <tbody>\n",
       "    <tr>\n",
       "      <th>2014-09-17 00:00:00+00:00</th>\n",
       "      <td>465.864014</td>\n",
       "      <td>468.174011</td>\n",
       "      <td>452.421997</td>\n",
       "      <td>457.334015</td>\n",
       "      <td>21056800</td>\n",
       "      <td>424.440002</td>\n",
       "      <td>0</td>\n",
       "    </tr>\n",
       "    <tr>\n",
       "      <th>2014-09-18 00:00:00+00:00</th>\n",
       "      <td>456.859985</td>\n",
       "      <td>456.859985</td>\n",
       "      <td>413.104004</td>\n",
       "      <td>424.440002</td>\n",
       "      <td>34483200</td>\n",
       "      <td>394.795990</td>\n",
       "      <td>0</td>\n",
       "    </tr>\n",
       "  </tbody>\n",
       "</table>\n",
       "</div>"
      ],
      "text/plain": [
       "                                 Open        High         Low       Close  \\\n",
       "Date                                                                        \n",
       "2014-09-17 00:00:00+00:00  465.864014  468.174011  452.421997  457.334015   \n",
       "2014-09-18 00:00:00+00:00  456.859985  456.859985  413.104004  424.440002   \n",
       "\n",
       "                             Volume    Tomorrow  Target  \n",
       "Date                                                     \n",
       "2014-09-17 00:00:00+00:00  21056800  424.440002       0  \n",
       "2014-09-18 00:00:00+00:00  34483200  394.795990       0  "
      ]
     },
     "execution_count": 194,
     "metadata": {},
     "output_type": "execute_result"
    }
   ],
   "source": [
    "bitcoin_ticker['Target'] = (bitcoin_ticker['Tomorrow']>bitcoin_ticker['Close']).astype(int)\n",
    "bitcoin_ticker.head(2)"
   ]
  },
  {
   "cell_type": "code",
   "execution_count": 195,
   "id": "a6fa73d8-0966-4fde-94f9-76b9cb9661e9",
   "metadata": {},
   "outputs": [
    {
     "data": {
      "text/plain": [
       "(pandas.core.frame.DataFrame,\n",
       " (3399, 7),\n",
       " Open        float64\n",
       " High        float64\n",
       " Low         float64\n",
       " Close       float64\n",
       " Volume        int64\n",
       " Tomorrow    float64\n",
       " Target        int32\n",
       " dtype: object)"
      ]
     },
     "execution_count": 195,
     "metadata": {},
     "output_type": "execute_result"
    }
   ],
   "source": [
    "type(bitcoin_ticker), bitcoin_ticker.shape, bitcoin_ticker.dtypes"
   ]
  },
  {
   "cell_type": "markdown",
   "id": "f4009e7e-3605-4555-988a-afbf13dc7dfb",
   "metadata": {},
   "source": [
    "## Training an initial machine learning mode"
   ]
  },
  {
   "cell_type": "code",
   "execution_count": 196,
   "id": "169ee577-fe46-4699-900e-ed97fdeb8953",
   "metadata": {},
   "outputs": [
    {
     "data": {
      "text/html": [
       "<style>#sk-container-id-14 {color: black;}#sk-container-id-14 pre{padding: 0;}#sk-container-id-14 div.sk-toggleable {background-color: white;}#sk-container-id-14 label.sk-toggleable__label {cursor: pointer;display: block;width: 100%;margin-bottom: 0;padding: 0.3em;box-sizing: border-box;text-align: center;}#sk-container-id-14 label.sk-toggleable__label-arrow:before {content: \"▸\";float: left;margin-right: 0.25em;color: #696969;}#sk-container-id-14 label.sk-toggleable__label-arrow:hover:before {color: black;}#sk-container-id-14 div.sk-estimator:hover label.sk-toggleable__label-arrow:before {color: black;}#sk-container-id-14 div.sk-toggleable__content {max-height: 0;max-width: 0;overflow: hidden;text-align: left;background-color: #f0f8ff;}#sk-container-id-14 div.sk-toggleable__content pre {margin: 0.2em;color: black;border-radius: 0.25em;background-color: #f0f8ff;}#sk-container-id-14 input.sk-toggleable__control:checked~div.sk-toggleable__content {max-height: 200px;max-width: 100%;overflow: auto;}#sk-container-id-14 input.sk-toggleable__control:checked~label.sk-toggleable__label-arrow:before {content: \"▾\";}#sk-container-id-14 div.sk-estimator input.sk-toggleable__control:checked~label.sk-toggleable__label {background-color: #d4ebff;}#sk-container-id-14 div.sk-label input.sk-toggleable__control:checked~label.sk-toggleable__label {background-color: #d4ebff;}#sk-container-id-14 input.sk-hidden--visually {border: 0;clip: rect(1px 1px 1px 1px);clip: rect(1px, 1px, 1px, 1px);height: 1px;margin: -1px;overflow: hidden;padding: 0;position: absolute;width: 1px;}#sk-container-id-14 div.sk-estimator {font-family: monospace;background-color: #f0f8ff;border: 1px dotted black;border-radius: 0.25em;box-sizing: border-box;margin-bottom: 0.5em;}#sk-container-id-14 div.sk-estimator:hover {background-color: #d4ebff;}#sk-container-id-14 div.sk-parallel-item::after {content: \"\";width: 100%;border-bottom: 1px solid gray;flex-grow: 1;}#sk-container-id-14 div.sk-label:hover label.sk-toggleable__label {background-color: #d4ebff;}#sk-container-id-14 div.sk-serial::before {content: \"\";position: absolute;border-left: 1px solid gray;box-sizing: border-box;top: 0;bottom: 0;left: 50%;z-index: 0;}#sk-container-id-14 div.sk-serial {display: flex;flex-direction: column;align-items: center;background-color: white;padding-right: 0.2em;padding-left: 0.2em;position: relative;}#sk-container-id-14 div.sk-item {position: relative;z-index: 1;}#sk-container-id-14 div.sk-parallel {display: flex;align-items: stretch;justify-content: center;background-color: white;position: relative;}#sk-container-id-14 div.sk-item::before, #sk-container-id-14 div.sk-parallel-item::before {content: \"\";position: absolute;border-left: 1px solid gray;box-sizing: border-box;top: 0;bottom: 0;left: 50%;z-index: -1;}#sk-container-id-14 div.sk-parallel-item {display: flex;flex-direction: column;z-index: 1;position: relative;background-color: white;}#sk-container-id-14 div.sk-parallel-item:first-child::after {align-self: flex-end;width: 50%;}#sk-container-id-14 div.sk-parallel-item:last-child::after {align-self: flex-start;width: 50%;}#sk-container-id-14 div.sk-parallel-item:only-child::after {width: 0;}#sk-container-id-14 div.sk-dashed-wrapped {border: 1px dashed gray;margin: 0 0.4em 0.5em 0.4em;box-sizing: border-box;padding-bottom: 0.4em;background-color: white;}#sk-container-id-14 div.sk-label label {font-family: monospace;font-weight: bold;display: inline-block;line-height: 1.2em;}#sk-container-id-14 div.sk-label-container {text-align: center;}#sk-container-id-14 div.sk-container {/* jupyter's `normalize.less` sets `[hidden] { display: none; }` but bootstrap.min.css set `[hidden] { display: none !important; }` so we also need the `!important` here to be able to override the default hidden behavior on the sphinx rendered scikit-learn.org. See: https://github.com/scikit-learn/scikit-learn/issues/21755 */display: inline-block !important;position: relative;}#sk-container-id-14 div.sk-text-repr-fallback {display: none;}</style><div id=\"sk-container-id-14\" class=\"sk-top-container\"><div class=\"sk-text-repr-fallback\"><pre>RandomForestClassifier(min_samples_split=100, random_state=1)</pre><b>In a Jupyter environment, please rerun this cell to show the HTML representation or trust the notebook. <br />On GitHub, the HTML representation is unable to render, please try loading this page with nbviewer.org.</b></div><div class=\"sk-container\" hidden><div class=\"sk-item\"><div class=\"sk-estimator sk-toggleable\"><input class=\"sk-toggleable__control sk-hidden--visually\" id=\"sk-estimator-id-14\" type=\"checkbox\" checked><label for=\"sk-estimator-id-14\" class=\"sk-toggleable__label sk-toggleable__label-arrow\">RandomForestClassifier</label><div class=\"sk-toggleable__content\"><pre>RandomForestClassifier(min_samples_split=100, random_state=1)</pre></div></div></div></div></div>"
      ],
      "text/plain": [
       "RandomForestClassifier(min_samples_split=100, random_state=1)"
      ]
     },
     "execution_count": 196,
     "metadata": {},
     "output_type": "execute_result"
    }
   ],
   "source": [
    "model = RandomForestClassifier(n_estimators=100, min_samples_split=100, random_state=1)\n",
    "model"
   ]
  },
  {
   "cell_type": "code",
   "execution_count": 197,
   "id": "61f8e69e-00d4-438f-a4f0-3251a891e093",
   "metadata": {},
   "outputs": [
    {
     "data": {
      "text/plain": [
       "(3299, 7)"
      ]
     },
     "execution_count": 197,
     "metadata": {},
     "output_type": "execute_result"
    }
   ],
   "source": [
    "bitcoin_train = bitcoin_ticker.iloc[:-100]\n",
    "bitcoin_train.shape"
   ]
  },
  {
   "cell_type": "code",
   "execution_count": 198,
   "id": "8eca2c6c-5b97-41f9-8677-b404c04b526a",
   "metadata": {},
   "outputs": [
    {
     "data": {
      "text/plain": [
       "(100, 7)"
      ]
     },
     "execution_count": 198,
     "metadata": {},
     "output_type": "execute_result"
    }
   ],
   "source": [
    "bitcoin_test = bitcoin_ticker.iloc[-100:]\n",
    "bitcoin_test.shape"
   ]
  },
  {
   "cell_type": "code",
   "execution_count": 199,
   "id": "504bf44f-0758-489e-9baf-5e1224542595",
   "metadata": {},
   "outputs": [
    {
     "data": {
      "text/plain": [
       "['Close', 'Volume', 'Open', 'High', 'Low']"
      ]
     },
     "execution_count": 199,
     "metadata": {},
     "output_type": "execute_result"
    }
   ],
   "source": [
    "predictors=[\"Close\", \"Volume\", \"Open\", \"High\", \"Low\" ]\n",
    "predictors"
   ]
  },
  {
   "cell_type": "code",
   "execution_count": 200,
   "id": "0bb00ffa-c117-4ecc-b9dd-ff0c44ecca7e",
   "metadata": {},
   "outputs": [
    {
     "data": {
      "text/html": [
       "<div>\n",
       "<style scoped>\n",
       "    .dataframe tbody tr th:only-of-type {\n",
       "        vertical-align: middle;\n",
       "    }\n",
       "\n",
       "    .dataframe tbody tr th {\n",
       "        vertical-align: top;\n",
       "    }\n",
       "\n",
       "    .dataframe thead th {\n",
       "        text-align: right;\n",
       "    }\n",
       "</style>\n",
       "<table border=\"1\" class=\"dataframe\">\n",
       "  <thead>\n",
       "    <tr style=\"text-align: right;\">\n",
       "      <th></th>\n",
       "      <th>Close</th>\n",
       "      <th>Volume</th>\n",
       "      <th>Open</th>\n",
       "      <th>High</th>\n",
       "      <th>Low</th>\n",
       "    </tr>\n",
       "    <tr>\n",
       "      <th>Date</th>\n",
       "      <th></th>\n",
       "      <th></th>\n",
       "      <th></th>\n",
       "      <th></th>\n",
       "      <th></th>\n",
       "    </tr>\n",
       "  </thead>\n",
       "  <tbody>\n",
       "    <tr>\n",
       "      <th>2014-09-17 00:00:00+00:00</th>\n",
       "      <td>457.334015</td>\n",
       "      <td>21056800</td>\n",
       "      <td>465.864014</td>\n",
       "      <td>468.174011</td>\n",
       "      <td>452.421997</td>\n",
       "    </tr>\n",
       "  </tbody>\n",
       "</table>\n",
       "</div>"
      ],
      "text/plain": [
       "                                Close    Volume        Open        High  \\\n",
       "Date                                                                      \n",
       "2014-09-17 00:00:00+00:00  457.334015  21056800  465.864014  468.174011   \n",
       "\n",
       "                                  Low  \n",
       "Date                                   \n",
       "2014-09-17 00:00:00+00:00  452.421997  "
      ]
     },
     "execution_count": 200,
     "metadata": {},
     "output_type": "execute_result"
    }
   ],
   "source": [
    "bitcoin_train[predictors].head(1)"
   ]
  },
  {
   "cell_type": "code",
   "execution_count": 201,
   "id": "99090a0b-4e45-4319-abec-5987ca9e9356",
   "metadata": {},
   "outputs": [
    {
     "data": {
      "text/plain": [
       "Date\n",
       "2014-09-17 00:00:00+00:00    0\n",
       "2014-09-18 00:00:00+00:00    0\n",
       "2014-09-19 00:00:00+00:00    1\n",
       "Name: Target, dtype: int32"
      ]
     },
     "execution_count": 201,
     "metadata": {},
     "output_type": "execute_result"
    }
   ],
   "source": [
    "bitcoin_train[\"Target\"].head(3)"
   ]
  },
  {
   "cell_type": "code",
   "execution_count": 202,
   "id": "820dbe32-4587-47b8-a553-b8867f28ada5",
   "metadata": {},
   "outputs": [
    {
     "data": {
      "text/html": [
       "<style>#sk-container-id-15 {color: black;}#sk-container-id-15 pre{padding: 0;}#sk-container-id-15 div.sk-toggleable {background-color: white;}#sk-container-id-15 label.sk-toggleable__label {cursor: pointer;display: block;width: 100%;margin-bottom: 0;padding: 0.3em;box-sizing: border-box;text-align: center;}#sk-container-id-15 label.sk-toggleable__label-arrow:before {content: \"▸\";float: left;margin-right: 0.25em;color: #696969;}#sk-container-id-15 label.sk-toggleable__label-arrow:hover:before {color: black;}#sk-container-id-15 div.sk-estimator:hover label.sk-toggleable__label-arrow:before {color: black;}#sk-container-id-15 div.sk-toggleable__content {max-height: 0;max-width: 0;overflow: hidden;text-align: left;background-color: #f0f8ff;}#sk-container-id-15 div.sk-toggleable__content pre {margin: 0.2em;color: black;border-radius: 0.25em;background-color: #f0f8ff;}#sk-container-id-15 input.sk-toggleable__control:checked~div.sk-toggleable__content {max-height: 200px;max-width: 100%;overflow: auto;}#sk-container-id-15 input.sk-toggleable__control:checked~label.sk-toggleable__label-arrow:before {content: \"▾\";}#sk-container-id-15 div.sk-estimator input.sk-toggleable__control:checked~label.sk-toggleable__label {background-color: #d4ebff;}#sk-container-id-15 div.sk-label input.sk-toggleable__control:checked~label.sk-toggleable__label {background-color: #d4ebff;}#sk-container-id-15 input.sk-hidden--visually {border: 0;clip: rect(1px 1px 1px 1px);clip: rect(1px, 1px, 1px, 1px);height: 1px;margin: -1px;overflow: hidden;padding: 0;position: absolute;width: 1px;}#sk-container-id-15 div.sk-estimator {font-family: monospace;background-color: #f0f8ff;border: 1px dotted black;border-radius: 0.25em;box-sizing: border-box;margin-bottom: 0.5em;}#sk-container-id-15 div.sk-estimator:hover {background-color: #d4ebff;}#sk-container-id-15 div.sk-parallel-item::after {content: \"\";width: 100%;border-bottom: 1px solid gray;flex-grow: 1;}#sk-container-id-15 div.sk-label:hover label.sk-toggleable__label {background-color: #d4ebff;}#sk-container-id-15 div.sk-serial::before {content: \"\";position: absolute;border-left: 1px solid gray;box-sizing: border-box;top: 0;bottom: 0;left: 50%;z-index: 0;}#sk-container-id-15 div.sk-serial {display: flex;flex-direction: column;align-items: center;background-color: white;padding-right: 0.2em;padding-left: 0.2em;position: relative;}#sk-container-id-15 div.sk-item {position: relative;z-index: 1;}#sk-container-id-15 div.sk-parallel {display: flex;align-items: stretch;justify-content: center;background-color: white;position: relative;}#sk-container-id-15 div.sk-item::before, #sk-container-id-15 div.sk-parallel-item::before {content: \"\";position: absolute;border-left: 1px solid gray;box-sizing: border-box;top: 0;bottom: 0;left: 50%;z-index: -1;}#sk-container-id-15 div.sk-parallel-item {display: flex;flex-direction: column;z-index: 1;position: relative;background-color: white;}#sk-container-id-15 div.sk-parallel-item:first-child::after {align-self: flex-end;width: 50%;}#sk-container-id-15 div.sk-parallel-item:last-child::after {align-self: flex-start;width: 50%;}#sk-container-id-15 div.sk-parallel-item:only-child::after {width: 0;}#sk-container-id-15 div.sk-dashed-wrapped {border: 1px dashed gray;margin: 0 0.4em 0.5em 0.4em;box-sizing: border-box;padding-bottom: 0.4em;background-color: white;}#sk-container-id-15 div.sk-label label {font-family: monospace;font-weight: bold;display: inline-block;line-height: 1.2em;}#sk-container-id-15 div.sk-label-container {text-align: center;}#sk-container-id-15 div.sk-container {/* jupyter's `normalize.less` sets `[hidden] { display: none; }` but bootstrap.min.css set `[hidden] { display: none !important; }` so we also need the `!important` here to be able to override the default hidden behavior on the sphinx rendered scikit-learn.org. See: https://github.com/scikit-learn/scikit-learn/issues/21755 */display: inline-block !important;position: relative;}#sk-container-id-15 div.sk-text-repr-fallback {display: none;}</style><div id=\"sk-container-id-15\" class=\"sk-top-container\"><div class=\"sk-text-repr-fallback\"><pre>RandomForestClassifier(min_samples_split=100, random_state=1)</pre><b>In a Jupyter environment, please rerun this cell to show the HTML representation or trust the notebook. <br />On GitHub, the HTML representation is unable to render, please try loading this page with nbviewer.org.</b></div><div class=\"sk-container\" hidden><div class=\"sk-item\"><div class=\"sk-estimator sk-toggleable\"><input class=\"sk-toggleable__control sk-hidden--visually\" id=\"sk-estimator-id-15\" type=\"checkbox\" checked><label for=\"sk-estimator-id-15\" class=\"sk-toggleable__label sk-toggleable__label-arrow\">RandomForestClassifier</label><div class=\"sk-toggleable__content\"><pre>RandomForestClassifier(min_samples_split=100, random_state=1)</pre></div></div></div></div></div>"
      ],
      "text/plain": [
       "RandomForestClassifier(min_samples_split=100, random_state=1)"
      ]
     },
     "execution_count": 202,
     "metadata": {},
     "output_type": "execute_result"
    }
   ],
   "source": [
    "model.fit(bitcoin_train[predictors], bitcoin_train[\"Target\"])"
   ]
  },
  {
   "cell_type": "code",
   "execution_count": 203,
   "id": "09b0f2c0-eb2e-43fa-a733-b1fc761df462",
   "metadata": {},
   "outputs": [
    {
     "data": {
      "text/plain": [
       "array([1, 1, 0, 0, 0, 0, 0, 0, 1, 1, 0, 1, 1, 1, 1, 1, 0, 0, 0, 0, 0, 0,\n",
       "       0, 1, 1, 1, 1, 0, 1, 1, 0, 1, 0, 1, 0, 1, 1, 0, 0, 1, 1, 1, 1, 1,\n",
       "       1, 1, 1, 1, 1, 1, 0, 0, 1, 1, 1, 1, 1, 1, 1, 1, 1, 1, 1, 1, 0, 0,\n",
       "       1, 1, 0, 0, 0, 0, 0, 0, 0, 1, 0, 0, 0, 0, 1, 0, 0, 0, 0, 0, 0, 0,\n",
       "       0, 0, 0, 0, 0, 0, 0, 1, 1, 0, 0, 0])"
      ]
     },
     "execution_count": 203,
     "metadata": {},
     "output_type": "execute_result"
    }
   ],
   "source": [
    "preds = model.predict(bitcoin_test[predictors])\n",
    "preds"
   ]
  },
  {
   "cell_type": "code",
   "execution_count": 204,
   "id": "b08a637b-3c58-4783-9e80-1a31d2199d97",
   "metadata": {},
   "outputs": [
    {
     "data": {
      "text/plain": [
       "0.5416666666666666"
      ]
     },
     "execution_count": 204,
     "metadata": {},
     "output_type": "execute_result"
    }
   ],
   "source": [
    "precision_score(bitcoin_test[\"Target\"], preds)"
   ]
  },
  {
   "cell_type": "code",
   "execution_count": null,
   "id": "ba3f21e7-0070-4443-a114-5b3b4dcc99a7",
   "metadata": {},
   "outputs": [],
   "source": []
  },
  {
   "cell_type": "code",
   "execution_count": 205,
   "id": "1dcd7d58-35e5-47bd-90cb-f1ce7104dec1",
   "metadata": {},
   "outputs": [
    {
     "data": {
      "text/plain": [
       "Date\n",
       "2023-09-29 00:00:00+00:00    1\n",
       "2023-09-30 00:00:00+00:00    1\n",
       "2023-10-01 00:00:00+00:00    0\n",
       "2023-10-02 00:00:00+00:00    0\n",
       "2023-10-03 00:00:00+00:00    0\n",
       "                            ..\n",
       "2024-01-02 00:00:00+00:00    1\n",
       "2024-01-03 00:00:00+00:00    1\n",
       "2024-01-04 00:00:00+00:00    0\n",
       "2024-01-05 00:00:00+00:00    0\n",
       "2024-01-06 00:00:00+00:00    0\n",
       "Name: Predictions, Length: 100, dtype: int32"
      ]
     },
     "execution_count": 205,
     "metadata": {},
     "output_type": "execute_result"
    }
   ],
   "source": [
    "preds = pd.Series(preds, index=bitcoin_test.index, name=\"Predictions\")\n",
    "preds"
   ]
  },
  {
   "cell_type": "code",
   "execution_count": 206,
   "id": "d8c40598-3b0e-4f16-8d20-34a96b8e41c2",
   "metadata": {},
   "outputs": [
    {
     "data": {
      "text/plain": [
       "0.5416666666666666"
      ]
     },
     "execution_count": 206,
     "metadata": {},
     "output_type": "execute_result"
    }
   ],
   "source": [
    "precision_score(bitcoin_test[\"Target\"], preds)"
   ]
  },
  {
   "cell_type": "code",
   "execution_count": 207,
   "id": "2d0b8c01-4391-449b-bae7-4bd74fb84b78",
   "metadata": {},
   "outputs": [
    {
     "data": {
      "text/html": [
       "<div>\n",
       "<style scoped>\n",
       "    .dataframe tbody tr th:only-of-type {\n",
       "        vertical-align: middle;\n",
       "    }\n",
       "\n",
       "    .dataframe tbody tr th {\n",
       "        vertical-align: top;\n",
       "    }\n",
       "\n",
       "    .dataframe thead th {\n",
       "        text-align: right;\n",
       "    }\n",
       "</style>\n",
       "<table border=\"1\" class=\"dataframe\">\n",
       "  <thead>\n",
       "    <tr style=\"text-align: right;\">\n",
       "      <th></th>\n",
       "      <th>Target</th>\n",
       "      <th>Predictions</th>\n",
       "    </tr>\n",
       "    <tr>\n",
       "      <th>Date</th>\n",
       "      <th></th>\n",
       "      <th></th>\n",
       "    </tr>\n",
       "  </thead>\n",
       "  <tbody>\n",
       "    <tr>\n",
       "      <th>2023-09-29 00:00:00+00:00</th>\n",
       "      <td>1</td>\n",
       "      <td>1</td>\n",
       "    </tr>\n",
       "    <tr>\n",
       "      <th>2023-09-30 00:00:00+00:00</th>\n",
       "      <td>1</td>\n",
       "      <td>1</td>\n",
       "    </tr>\n",
       "    <tr>\n",
       "      <th>2023-10-01 00:00:00+00:00</th>\n",
       "      <td>0</td>\n",
       "      <td>0</td>\n",
       "    </tr>\n",
       "    <tr>\n",
       "      <th>2023-10-02 00:00:00+00:00</th>\n",
       "      <td>0</td>\n",
       "      <td>0</td>\n",
       "    </tr>\n",
       "    <tr>\n",
       "      <th>2023-10-03 00:00:00+00:00</th>\n",
       "      <td>1</td>\n",
       "      <td>0</td>\n",
       "    </tr>\n",
       "  </tbody>\n",
       "</table>\n",
       "</div>"
      ],
      "text/plain": [
       "                           Target  Predictions\n",
       "Date                                          \n",
       "2023-09-29 00:00:00+00:00       1            1\n",
       "2023-09-30 00:00:00+00:00       1            1\n",
       "2023-10-01 00:00:00+00:00       0            0\n",
       "2023-10-02 00:00:00+00:00       0            0\n",
       "2023-10-03 00:00:00+00:00       1            0"
      ]
     },
     "execution_count": 207,
     "metadata": {},
     "output_type": "execute_result"
    }
   ],
   "source": [
    "combined = pd.concat([bitcoin_test[\"Target\"], preds], axis =1)\n",
    "combined.head(5)"
   ]
  },
  {
   "cell_type": "code",
   "execution_count": 208,
   "id": "61ff7b50-0dd2-4ba9-9dbc-9696fbf1589a",
   "metadata": {},
   "outputs": [
    {
     "data": {
      "text/plain": [
       "<Axes: xlabel='Date'>"
      ]
     },
     "execution_count": 208,
     "metadata": {},
     "output_type": "execute_result"
    },
    {
     "data": {
      "image/png": "[encoded data removed]",
      "text/plain": [
       "<Figure size 640x480 with 1 Axes>"
      ]
     },
     "metadata": {},
     "output_type": "display_data"
    }
   ],
   "source": [
    "combined.plot()"
   ]
  },
  {
   "cell_type": "markdown",
   "id": "695ac70f-5a3f-4f01-ac65-1042546bcb29",
   "metadata": {},
   "source": [
    "## Building a Backtesting system"
   ]
  },
  {
   "cell_type": "code",
   "execution_count": 209,
   "id": "c0a43770-7ddf-45f0-b625-46032b2777c5",
   "metadata": {},
   "outputs": [],
   "source": [
    "def predict(bitcoint_train, bitcoint_test, predictors, model):\n",
    "    model.fit(bitcoint_train[predictors], bitcoint_train[\"Target\"])\n",
    "    preds = model.predict(bitcoint_test[predictors])\n",
    "    preds = pd.Series(preds, index=bitcoint_test.index, name=\"Predictions\")\n",
    "    combined = pd.concat([bitcoint_test[\"Target\"], preds], axis=1)\n",
    "    return combined"
   ]
  },
  {
   "cell_type": "code",
   "execution_count": 210,
   "id": "0bdd7d1a-58d0-472b-9e8b-bacd1ff13fa7",
   "metadata": {},
   "outputs": [
    {
     "data": {
      "text/plain": [
       "(3399, 7)"
      ]
     },
     "execution_count": 210,
     "metadata": {},
     "output_type": "execute_result"
    }
   ],
   "source": [
    "bitcoin_ticker.shape"
   ]
  },
  {
   "cell_type": "code",
   "execution_count": 211,
   "id": "ce70a90c-4885-49bb-815e-9012d75d0fc5",
   "metadata": {
    "scrolled": true
   },
   "outputs": [
    {
     "data": {
      "text/html": [
       "<div>\n",
       "<style scoped>\n",
       "    .dataframe tbody tr th:only-of-type {\n",
       "        vertical-align: middle;\n",
       "    }\n",
       "\n",
       "    .dataframe tbody tr th {\n",
       "        vertical-align: top;\n",
       "    }\n",
       "\n",
       "    .dataframe thead th {\n",
       "        text-align: right;\n",
       "    }\n",
       "</style>\n",
       "<table border=\"1\" class=\"dataframe\">\n",
       "  <thead>\n",
       "    <tr style=\"text-align: right;\">\n",
       "      <th></th>\n",
       "      <th>Open</th>\n",
       "      <th>High</th>\n",
       "      <th>Low</th>\n",
       "      <th>Close</th>\n",
       "      <th>Volume</th>\n",
       "      <th>Tomorrow</th>\n",
       "      <th>Target</th>\n",
       "    </tr>\n",
       "    <tr>\n",
       "      <th>Date</th>\n",
       "      <th></th>\n",
       "      <th></th>\n",
       "      <th></th>\n",
       "      <th></th>\n",
       "      <th></th>\n",
       "      <th></th>\n",
       "      <th></th>\n",
       "    </tr>\n",
       "  </thead>\n",
       "  <tbody>\n",
       "    <tr>\n",
       "      <th>2014-09-17 00:00:00+00:00</th>\n",
       "      <td>465.864014</td>\n",
       "      <td>468.174011</td>\n",
       "      <td>452.421997</td>\n",
       "      <td>457.334015</td>\n",
       "      <td>21056800</td>\n",
       "      <td>424.440002</td>\n",
       "      <td>0</td>\n",
       "    </tr>\n",
       "    <tr>\n",
       "      <th>2014-09-18 00:00:00+00:00</th>\n",
       "      <td>456.859985</td>\n",
       "      <td>456.859985</td>\n",
       "      <td>413.104004</td>\n",
       "      <td>424.440002</td>\n",
       "      <td>34483200</td>\n",
       "      <td>394.795990</td>\n",
       "      <td>0</td>\n",
       "    </tr>\n",
       "    <tr>\n",
       "      <th>2014-09-19 00:00:00+00:00</th>\n",
       "      <td>424.102997</td>\n",
       "      <td>427.834991</td>\n",
       "      <td>384.532013</td>\n",
       "      <td>394.795990</td>\n",
       "      <td>37919700</td>\n",
       "      <td>408.903992</td>\n",
       "      <td>1</td>\n",
       "    </tr>\n",
       "    <tr>\n",
       "      <th>2014-09-20 00:00:00+00:00</th>\n",
       "      <td>394.673004</td>\n",
       "      <td>423.295990</td>\n",
       "      <td>389.882996</td>\n",
       "      <td>408.903992</td>\n",
       "      <td>36863600</td>\n",
       "      <td>398.821014</td>\n",
       "      <td>0</td>\n",
       "    </tr>\n",
       "    <tr>\n",
       "      <th>2014-09-21 00:00:00+00:00</th>\n",
       "      <td>408.084991</td>\n",
       "      <td>412.425995</td>\n",
       "      <td>393.181000</td>\n",
       "      <td>398.821014</td>\n",
       "      <td>26580100</td>\n",
       "      <td>402.152008</td>\n",
       "      <td>1</td>\n",
       "    </tr>\n",
       "    <tr>\n",
       "      <th>...</th>\n",
       "      <td>...</td>\n",
       "      <td>...</td>\n",
       "      <td>...</td>\n",
       "      <td>...</td>\n",
       "      <td>...</td>\n",
       "      <td>...</td>\n",
       "      <td>...</td>\n",
       "    </tr>\n",
       "    <tr>\n",
       "      <th>2021-07-17 00:00:00+00:00</th>\n",
       "      <td>31397.308594</td>\n",
       "      <td>31935.945312</td>\n",
       "      <td>31223.990234</td>\n",
       "      <td>31533.068359</td>\n",
       "      <td>18895018942</td>\n",
       "      <td>31796.810547</td>\n",
       "      <td>1</td>\n",
       "    </tr>\n",
       "    <tr>\n",
       "      <th>2021-07-18 00:00:00+00:00</th>\n",
       "      <td>31533.884766</td>\n",
       "      <td>32398.996094</td>\n",
       "      <td>31215.492188</td>\n",
       "      <td>31796.810547</td>\n",
       "      <td>18787986667</td>\n",
       "      <td>30817.832031</td>\n",
       "      <td>0</td>\n",
       "    </tr>\n",
       "    <tr>\n",
       "      <th>2021-07-19 00:00:00+00:00</th>\n",
       "      <td>31800.011719</td>\n",
       "      <td>31885.859375</td>\n",
       "      <td>30563.734375</td>\n",
       "      <td>30817.832031</td>\n",
       "      <td>20434789545</td>\n",
       "      <td>29807.347656</td>\n",
       "      <td>0</td>\n",
       "    </tr>\n",
       "    <tr>\n",
       "      <th>2021-07-20 00:00:00+00:00</th>\n",
       "      <td>30838.285156</td>\n",
       "      <td>31006.187500</td>\n",
       "      <td>29360.955078</td>\n",
       "      <td>29807.347656</td>\n",
       "      <td>23148267245</td>\n",
       "      <td>32110.693359</td>\n",
       "      <td>1</td>\n",
       "    </tr>\n",
       "    <tr>\n",
       "      <th>2021-07-21 00:00:00+00:00</th>\n",
       "      <td>29796.285156</td>\n",
       "      <td>32752.326172</td>\n",
       "      <td>29526.183594</td>\n",
       "      <td>32110.693359</td>\n",
       "      <td>28203024559</td>\n",
       "      <td>32313.105469</td>\n",
       "      <td>1</td>\n",
       "    </tr>\n",
       "  </tbody>\n",
       "</table>\n",
       "<p>2500 rows × 7 columns</p>\n",
       "</div>"
      ],
      "text/plain": [
       "                                   Open          High           Low  \\\n",
       "Date                                                                  \n",
       "2014-09-17 00:00:00+00:00    465.864014    468.174011    452.421997   \n",
       "2014-09-18 00:00:00+00:00    456.859985    456.859985    413.104004   \n",
       "2014-09-19 00:00:00+00:00    424.102997    427.834991    384.532013   \n",
       "2014-09-20 00:00:00+00:00    394.673004    423.295990    389.882996   \n",
       "2014-09-21 00:00:00+00:00    408.084991    412.425995    393.181000   \n",
       "...                                 ...           ...           ...   \n",
       "2021-07-17 00:00:00+00:00  31397.308594  31935.945312  31223.990234   \n",
       "2021-07-18 00:00:00+00:00  31533.884766  32398.996094  31215.492188   \n",
       "2021-07-19 00:00:00+00:00  31800.011719  31885.859375  30563.734375   \n",
       "2021-07-20 00:00:00+00:00  30838.285156  31006.187500  29360.955078   \n",
       "2021-07-21 00:00:00+00:00  29796.285156  32752.326172  29526.183594   \n",
       "\n",
       "                                  Close       Volume      Tomorrow  Target  \n",
       "Date                                                                        \n",
       "2014-09-17 00:00:00+00:00    457.334015     21056800    424.440002       0  \n",
       "2014-09-18 00:00:00+00:00    424.440002     34483200    394.795990       0  \n",
       "2014-09-19 00:00:00+00:00    394.795990     37919700    408.903992       1  \n",
       "2014-09-20 00:00:00+00:00    408.903992     36863600    398.821014       0  \n",
       "2014-09-21 00:00:00+00:00    398.821014     26580100    402.152008       1  \n",
       "...                                 ...          ...           ...     ...  \n",
       "2021-07-17 00:00:00+00:00  31533.068359  18895018942  31796.810547       1  \n",
       "2021-07-18 00:00:00+00:00  31796.810547  18787986667  30817.832031       0  \n",
       "2021-07-19 00:00:00+00:00  30817.832031  20434789545  29807.347656       0  \n",
       "2021-07-20 00:00:00+00:00  29807.347656  23148267245  32110.693359       1  \n",
       "2021-07-21 00:00:00+00:00  32110.693359  28203024559  32313.105469       1  \n",
       "\n",
       "[2500 rows x 7 columns]"
      ]
     },
     "execution_count": 211,
     "metadata": {},
     "output_type": "execute_result"
    }
   ],
   "source": [
    "bitcoin_ticker.iloc[0:2500]"
   ]
  },
  {
   "cell_type": "code",
   "execution_count": 212,
   "id": "8c040d9e-0aaf-4657-916b-6e579704f025",
   "metadata": {
    "scrolled": true
   },
   "outputs": [
    {
     "name": "stdout",
     "output_type": "stream",
     "text": [
      "500\n",
      "750\n",
      "1000\n",
      "1250\n",
      "1500\n",
      "1750\n",
      "2000\n",
      "2250\n",
      "2500\n",
      "2750\n",
      "3000\n",
      "3250\n"
     ]
    }
   ],
   "source": [
    "for i in range(500, bitcoin_ticker.shape[0], 250):\n",
    "    print(i)"
   ]
  },
  {
   "cell_type": "code",
   "execution_count": 213,
   "id": "be2c72f5-7044-4e4c-ace1-91c50488ac2e",
   "metadata": {},
   "outputs": [],
   "source": [
    "def backtest(data, model, predictors, start=300, step=100):\n",
    "    all_predictions = []\n",
    "\n",
    "    for i in range(start, data.shape[0], step):\n",
    "        train = data.iloc[0:i].copy()\n",
    "        test = data.iloc[i:(i+step)].copy()\n",
    "        predictions = predict(bitcoin_train, test, predictors, model)\n",
    "        all_predictions.append(predictions)\n",
    "    \n",
    "    return pd.concat(all_predictions)"
   ]
  },
  {
   "cell_type": "code",
   "execution_count": 214,
   "id": "0928c066-a568-435b-bd72-e76f01cdffae",
   "metadata": {},
   "outputs": [
    {
     "data": {
      "text/html": [
       "<div>\n",
       "<style scoped>\n",
       "    .dataframe tbody tr th:only-of-type {\n",
       "        vertical-align: middle;\n",
       "    }\n",
       "\n",
       "    .dataframe tbody tr th {\n",
       "        vertical-align: top;\n",
       "    }\n",
       "\n",
       "    .dataframe thead th {\n",
       "        text-align: right;\n",
       "    }\n",
       "</style>\n",
       "<table border=\"1\" class=\"dataframe\">\n",
       "  <thead>\n",
       "    <tr style=\"text-align: right;\">\n",
       "      <th></th>\n",
       "      <th>Target</th>\n",
       "      <th>Predictions</th>\n",
       "    </tr>\n",
       "    <tr>\n",
       "      <th>Date</th>\n",
       "      <th></th>\n",
       "      <th></th>\n",
       "    </tr>\n",
       "  </thead>\n",
       "  <tbody>\n",
       "    <tr>\n",
       "      <th>2015-07-14 00:00:00+00:00</th>\n",
       "      <td>0</td>\n",
       "      <td>0</td>\n",
       "    </tr>\n",
       "    <tr>\n",
       "      <th>2015-07-15 00:00:00+00:00</th>\n",
       "      <td>0</td>\n",
       "      <td>0</td>\n",
       "    </tr>\n",
       "    <tr>\n",
       "      <th>2015-07-16 00:00:00+00:00</th>\n",
       "      <td>1</td>\n",
       "      <td>1</td>\n",
       "    </tr>\n",
       "    <tr>\n",
       "      <th>2015-07-17 00:00:00+00:00</th>\n",
       "      <td>0</td>\n",
       "      <td>0</td>\n",
       "    </tr>\n",
       "    <tr>\n",
       "      <th>2015-07-18 00:00:00+00:00</th>\n",
       "      <td>0</td>\n",
       "      <td>1</td>\n",
       "    </tr>\n",
       "    <tr>\n",
       "      <th>...</th>\n",
       "      <td>...</td>\n",
       "      <td>...</td>\n",
       "    </tr>\n",
       "    <tr>\n",
       "      <th>2024-01-02 00:00:00+00:00</th>\n",
       "      <td>0</td>\n",
       "      <td>1</td>\n",
       "    </tr>\n",
       "    <tr>\n",
       "      <th>2024-01-03 00:00:00+00:00</th>\n",
       "      <td>1</td>\n",
       "      <td>1</td>\n",
       "    </tr>\n",
       "    <tr>\n",
       "      <th>2024-01-04 00:00:00+00:00</th>\n",
       "      <td>0</td>\n",
       "      <td>0</td>\n",
       "    </tr>\n",
       "    <tr>\n",
       "      <th>2024-01-05 00:00:00+00:00</th>\n",
       "      <td>0</td>\n",
       "      <td>0</td>\n",
       "    </tr>\n",
       "    <tr>\n",
       "      <th>2024-01-06 00:00:00+00:00</th>\n",
       "      <td>0</td>\n",
       "      <td>0</td>\n",
       "    </tr>\n",
       "  </tbody>\n",
       "</table>\n",
       "<p>3099 rows × 2 columns</p>\n",
       "</div>"
      ],
      "text/plain": [
       "                           Target  Predictions\n",
       "Date                                          \n",
       "2015-07-14 00:00:00+00:00       0            0\n",
       "2015-07-15 00:00:00+00:00       0            0\n",
       "2015-07-16 00:00:00+00:00       1            1\n",
       "2015-07-17 00:00:00+00:00       0            0\n",
       "2015-07-18 00:00:00+00:00       0            1\n",
       "...                           ...          ...\n",
       "2024-01-02 00:00:00+00:00       0            1\n",
       "2024-01-03 00:00:00+00:00       1            1\n",
       "2024-01-04 00:00:00+00:00       0            0\n",
       "2024-01-05 00:00:00+00:00       0            0\n",
       "2024-01-06 00:00:00+00:00       0            0\n",
       "\n",
       "[3099 rows x 2 columns]"
      ]
     },
     "execution_count": 214,
     "metadata": {},
     "output_type": "execute_result"
    }
   ],
   "source": [
    "predictions = backtest(bitcoin_ticker, model, predictors)\n",
    "predictions"
   ]
  },
  {
   "cell_type": "code",
   "execution_count": 215,
   "id": "67349a8b-a993-4c1e-b19c-a1a50c11493b",
   "metadata": {},
   "outputs": [
    {
     "data": {
      "text/plain": [
       "0.7293478260869565"
      ]
     },
     "execution_count": 215,
     "metadata": {},
     "output_type": "execute_result"
    }
   ],
   "source": [
    "precision_score(predictions[\"Target\"], predictions[\"Predictions\"])"
   ]
  },
  {
   "cell_type": "code",
   "execution_count": null,
   "id": "df3baa28-d8c0-43ae-abf5-d445de4e28c9",
   "metadata": {},
   "outputs": [],
   "source": [
    "\"\"\"\n",
    "Analysis of Results:\n",
    "The precision scores obtained from both the single test set (precision_score(bitcoin_test[\"Target\"], preds)) \n",
    "and the backtesting process (precision_score(predictions[\"Target\"], predictions[\"Predictions\"])) indicate\n",
    "the model's ability to correctly classify positive instances (in this case, predicting an increase or decrease in the target).\n",
    "\n",
    "\"\"\""
   ]
  },
  {
   "cell_type": "code",
   "execution_count": null,
   "id": "16b06a73-0285-4121-9223-58801034a50c",
   "metadata": {},
   "outputs": [],
   "source": []
  },
  {
   "cell_type": "code",
   "execution_count": null,
   "id": "3b91fd70-ff4c-4493-be52-e6dc14075f7f",
   "metadata": {},
   "outputs": [],
   "source": []
  },
  {
   "cell_type": "code",
   "execution_count": null,
   "id": "94c75c5d-3533-4783-a6d0-3bcebb06bbd7",
   "metadata": {},
   "outputs": [],
   "source": []
  },
  {
   "cell_type": "code",
   "execution_count": null,
   "id": "8607d178-4a10-47da-8115-40caabb6631c",
   "metadata": {},
   "outputs": [],
   "source": []
  }
 ],
 "metadata": {
  "kernelspec": {
   "display_name": "Python 3 (ipykernel)",
   "language": "python",
   "name": "python3"
  },
  "language_info": {
   "codemirror_mode": {
    "name": "ipython",
    "version": 3
   },
   "file_extension": ".py",
   "mimetype": "text/x-python",
   "name": "python",
   "nbconvert_exporter": "python",
   "pygments_lexer": "ipython3",
   "version": "3.11.5"
  }
 },
 "nbformat": 4,
 "nbformat_minor": 5
}
